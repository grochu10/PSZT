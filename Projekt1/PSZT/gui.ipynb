{
 "cells": [
  {
   "cell_type": "code",
   "execution_count": null,
   "metadata": {},
   "outputs": [],
   "source": [
    "#skrypt odpowiedzialny za reczne dodanie punktow\n",
    "import pandas as pandas\n",
    "from matplotlib.patches import Rectangle\n",
    "import numpy as np\n",
    "import random\n",
    "import math\n",
    "import os\n",
    "\n",
    "xwek=[]\n",
    "ywek=[]\n",
    "\n",
    "def MANUAL(xwek,ywek):\n",
    "\n",
    "    n=int(input(\"Ile chcesz dodać punktów\"))\n",
    "    c=n\n",
    "    j=1\n",
    "    while j<=c:\n",
    "    \n",
    "    \n",
    "        print(\"Podaj wspórzędną x dla punktu o nr: \",j)\n",
    "        x = float(input(\"x: \"))\n",
    "        if x<=1 and x>=0:\n",
    "            print(\"Podaj wspórzędną y dla punktu o nr: \",j)\n",
    "            y = float(input(\"y: \"))\n",
    "            if y>=0 and y<=1:\n",
    "                xwek.append(x)\n",
    "                ywek.append(y)\n",
    "            else: \n",
    "                print(\"Podano wartosc nie mieszczaca sie w przedziale <0,1>\")\n",
    "                j=j-1\n",
    "        else:\n",
    "            print(\"Podano wartosc nie mieszczaca sie w przedziale <0,1>\")\n",
    "            j=j-1\n",
    "    \n",
    "        j=j+1\n",
    "        xwek=xwek\n",
    "        ywek=ywek\n",
    "   \n",
    "        raw_data ={'x':xwek,'y':ywek}\n",
    "\n",
    "        #  return x,y\n",
    "        df=pandas.DataFrame(raw_data, columns=['x','y'])\n",
    "        df.to_excel(\"danenowe2.xlsx\",sheet_name='Arkusz1')\n",
    "        "
   ]
  }
 ],
 "metadata": {
  "kernelspec": {
   "display_name": "Python 3",
   "language": "python",
   "name": "python3"
  },
  "language_info": {
   "codemirror_mode": {
    "name": "ipython",
    "version": 3
   },
   "file_extension": ".py",
   "mimetype": "text/x-python",
   "name": "python",
   "nbconvert_exporter": "python",
   "pygments_lexer": "ipython3",
   "version": "3.7.3"
  }
 },
 "nbformat": 4,
 "nbformat_minor": 2
}
