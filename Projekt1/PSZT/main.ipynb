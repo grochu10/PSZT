{
 "cells": [
  {
   "cell_type": "code",
   "execution_count": 1,
   "metadata": {},
   "outputs": [
    {
     "name": "stdout",
     "output_type": "stream",
     "text": [
      "importing Jupyter notebook from functions.ipynb\n"
     ]
    }
   ],
   "source": [
    "#skrypt realizujacy dzialanie algoytmu genetycznego\n",
    "import pandas\n",
    "import import_ipynb\n",
    "import functions as fun\n",
    "\n",
    "def mutacja(zad,mi,lambda2,loci,prawd,N,tab):\n",
    "\n",
    "    #inicjalizacja wartosci parametrow\n",
    "    f = []\n",
    "    if zad == 1:\n",
    "        n = 12\n",
    "    else:\n",
    "        n = 10 # ilosc genow na reprezentacje pojedynczego x,y lub r\n",
    "    k = 0\n",
    "    old_best = [0,0,0,0]\n",
    "\n",
    "\n",
    "    #generacja poczatkowej populacji P\n",
    "    pop_p=fun.generate_p(mi,n)\n",
    "\n",
    "    #glowna petla programu\n",
    "    for i in range(200):\n",
    "        if k == 25:\n",
    "            break\n",
    "        pop_t = fun.generate_t(lambda2,pop_p,mi)#generacja populacji T\n",
    "        pop_o = fun.create_o(pop_t,n,lambda2)#zmiana populacji T na genotypy\n",
    "        pop_o1 = fun.cross_o(pop_o,n,lambda2,loci)#krzyzowanie populacji\n",
    "        pop_o2 = fun.x_men(pop_o1,n,lambda2,prawd)#mutowanie populacji\n",
    "        pop_r = fun.create_r(pop_p,pop_o2,n,mi,lambda2)#generacja populacji R = P U T\n",
    "        if zad == 1:#podpunkt a\n",
    "            result = fun.res_a(pop_r,mi,lambda2,tab,N)#wybor najlepszych fenotypow\n",
    "        else:#podpunkt b\n",
    "            result = fun.res_b(pop_r,mi,lambda2,tab,N,i)#wybor najlepszych fenotypow\n",
    "        new_best = result[0]\n",
    "        if new_best == old_best:\n",
    "            k = k+1\n",
    "        else:\n",
    "            k = 0\n",
    "        pop_p = fun.new_p(result,mi)#generacja nowej populacji P\n",
    "        old_best = new_best\n",
    "        if zad ==1:\n",
    "            f.append(new_best[3])\n",
    "        else:\n",
    "            f.append(new_best[2])\n",
    "    \n",
    "    #zapis wynikow do pliku   \n",
    "    data = []\n",
    "    for j in range(4):\n",
    "        data.append(result[0][j])\n",
    "    data.append(i-k)\n",
    "    if zad ==1:\n",
    "        for j in range(i-k):\n",
    "            data.append(f[j])\n",
    "    else:\n",
    "        for j in range(i-k):\n",
    "            data.append(f[j])\n",
    "    \n",
    "    raw_data = {'data':data}\n",
    "    df = pandas.DataFrame(raw_data,columns=['data'])\n",
    "    df.to_excel('data.xlsx',sheet_name='Arkusz1')"
   ]
  },
  {
   "cell_type": "code",
   "execution_count": null,
   "metadata": {},
   "outputs": [],
   "source": []
  }
 ],
 "metadata": {
  "kernelspec": {
   "display_name": "Python 3",
   "language": "python",
   "name": "python3"
  },
  "language_info": {
   "codemirror_mode": {
    "name": "ipython",
    "version": 3
   },
   "file_extension": ".py",
   "mimetype": "text/x-python",
   "name": "python",
   "nbconvert_exporter": "python",
   "pygments_lexer": "ipython3",
   "version": "3.7.3"
  }
 },
 "nbformat": 4,
 "nbformat_minor": 2
}
